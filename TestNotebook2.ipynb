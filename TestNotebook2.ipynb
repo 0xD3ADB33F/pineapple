{
 "cells": [
  {
   "cell_type": "code",
   "execution_count": null,
   "metadata": {
    "collapsed": true
   },
   "outputs": [],
   "source": []
  }
 ],
 "metadata": {
  "kernelspec": {
   "display_name": "MyEcho",
   "language": "",
   "name": "echokernel"
  },
  "language_info": {
   "file_extension": "txt",
   "mimetype": "text/plain",
   "name": "text"
  }
 },
 "nbformat": 4,
 "nbformat_minor": 0
}
