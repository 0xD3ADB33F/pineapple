{
 "cells": [
  {
   "cell_type": "markdown",
   "metadata": {},
   "source": [
    "# Pineapple - The Basics\n",
    "\n",
    "Welcome to _Pineapple_, a graphical interface to Python based on Jupyter/IPython. Pineapple lets you organize your code into an executable notebook format that supports code, text, mathematical expressions, inline plots, and other media.\n",
    "\n",
    "## Why a notebook?\n",
    "\n",
    "The notebook format for writing code brings many advantages.\n",
    "- Mix code and explanation of what you are doing\n",
    "- See your code with syntax highlighting\n",
    "- Evaluate specific parts of code as many times as needed without restarting\n",
    "- Graphical display of results\n",
    "- Code and results are organized together"
   ]
  },
  {
   "cell_type": "markdown",
   "metadata": {},
   "source": [
    "## Cells\n",
    "\n",
    "A _cell_ in Pineapple is a single block in the notebook. Cells can be different types:\n",
    "- Code (Python)\n",
    "- Text (Markdown) "
   ]
  },
  {
   "cell_type": "code",
   "execution_count": 2,
   "metadata": {
    "collapsed": false
   },
   "outputs": [
    {
     "data": {
      "text/plain": [
       "4"
      ]
     },
     "execution_count": 2,
     "metadata": {},
     "output_type": "execute_result"
    }
   ],
   "source": [
    "# This is Python code in this cell.\n",
    "# You can evaluate a cell by pressing Shift-Return\n",
    "# when your cursor is in the cell.\n",
    "2+2"
   ]
  },
  {
   "cell_type": "code",
   "execution_count": 3,
   "metadata": {
    "collapsed": false
   },
   "outputs": [
    {
     "data": {
      "text/plain": [
       "15"
      ]
     },
     "execution_count": 3,
     "metadata": {},
     "output_type": "execute_result"
    }
   ],
   "source": [
    "# You can also do normal Python things\n",
    "def f(x):\n",
    "    return x + 5\n",
    "f(10)"
   ]
  },
  {
   "cell_type": "markdown",
   "metadata": {},
   "source": [
    "Notice that the value of the last expression is shows in the output part of the cell. Sometimes you don't want any values. In that case you can use a semicolon at the end."
   ]
  },
  {
   "cell_type": "code",
   "execution_count": 4,
   "metadata": {
    "collapsed": true
   },
   "outputs": [],
   "source": [
    "f(10);"
   ]
  },
  {
   "cell_type": "markdown",
   "metadata": {},
   "source": [
    "You should also notice that the definition of `f` is still active. Even though you might have many code cells, there is just one session with Python per notebook."
   ]
  },
  {
   "cell_type": "code",
   "execution_count": null,
   "metadata": {
    "collapsed": true
   },
   "outputs": [],
   "source": []
  }
 ],
 "metadata": {
  "kernelspec": {
   "display_name": "Python 2",
   "language": "python",
   "name": "python2"
  },
  "language_info": {
   "codemirror_mode": {
    "name": "ipython",
    "version": 2
   },
   "file_extension": ".py",
   "mimetype": "text/x-python",
   "name": "python",
   "nbconvert_exporter": "python",
   "pygments_lexer": "ipython2",
   "version": "2.7.6"
  }
 },
 "nbformat": 4,
 "nbformat_minor": 0
}
