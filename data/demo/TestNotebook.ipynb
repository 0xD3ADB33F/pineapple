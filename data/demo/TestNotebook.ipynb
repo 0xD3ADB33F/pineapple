{
 "cells": [
  {
   "cell_type": "markdown",
   "metadata": {
    "collapsed": false
   },
   "source": [
    "# Test Notebook\n",
    "\n",
    "_A test notebook by Nathan Whitehead_\n",
    "_Copyright 2015_\n",
    "\n",
    "This notebook is designed to test the styling and functionality of Pineapple.\n",
    "You are reading introductory text right now.\n",
    "\n",
    "## Basic Paragraph\n",
    "\n",
    "Pineapple is a customized build of Jupyter (formerly known as IPython) designed as an easy way to get started with scientific computing.\n",
    "\n",
    "It has a list of features:\n",
    "- Full power of Python\n",
    "- Interactive editing, syntax highlighting\n",
    "- Easy download and installation\n",
    "- Lots of packages preinstalled\n",
    "- Native interface\n",
    "\n",
    "## Platforms\n",
    "\n",
    "Currently Pineapple runs on:\n",
    "1. Linux\n",
    "2. Mac OS X 10.6 (Snow Leopard) and later versions\n",
    "3. Windows 7 and later (in progress)"
   ]
  },
  {
   "cell_type": "markdown",
   "metadata": {},
   "source": [
    "## Markdown features\n",
    "\n",
    "There are other markdown features you can use, for example you can do inline `code` to indicate that `x` is a variable. The function `get_ready` is set to `True` until it gets reset to false.\n",
    "\n",
    "You can also put code within markdown (will not be runnable). Here is the broken version:\n",
    "\n",
    "\n",
    "```python\n",
    "def f(x):\n",
    "    return f(x)\n",
    "```\n",
    "\n",
    "```\n",
    "to do f:\n",
    "    f\n",
    "```\n",
    "\n",
    "Do *not* run this code, it will smash your stack."
   ]
  },
  {
   "cell_type": "markdown",
   "metadata": {},
   "source": [
    "## Links\n",
    "\n",
    "You can also include [links](http://www.google.com) to http://news.ycombinator.com\n",
    "places with or without descriptive text."
   ]
  },
  {
   "cell_type": "markdown",
   "metadata": {},
   "source": [
    "# Interactive\n",
    "\n",
    "Let's get down to business. Here is some code."
   ]
  },
  {
   "cell_type": "code",
   "execution_count": 11,
   "metadata": {
    "collapsed": false
   },
   "outputs": [
    {
     "data": {
      "text/plain": [
       "4"
      ]
     },
     "execution_count": 11,
     "metadata": {},
     "output_type": "execute_result"
    }
   ],
   "source": [
    "2+2 "
   ]
  },
  {
   "cell_type": "markdown",
   "metadata": {},
   "source": [
    "Are you impressed yet?\n",
    "\n",
    "Maybe the next one will be more impressive."
   ]
  },
  {
   "cell_type": "code",
   "execution_count": 2,
   "metadata": {
    "collapsed": false
   },
   "outputs": [
    {
     "name": "stdout",
     "output_type": "stream",
     "text": [
      "/home/nwhitehead\n"
     ]
    }
   ],
   "source": [
    "%cd"
   ]
  },
  {
   "cell_type": "markdown",
   "metadata": {},
   "source": [
    "Notice that the working directory is set to your home directory by default."
   ]
  },
  {
   "cell_type": "code",
   "execution_count": 5,
   "metadata": {
    "collapsed": false,
    "scrolled": true
   },
   "outputs": [
    {
     "data": {
      "image/png": "[encoded data removed]",
      "text/plain": [
       "<IPython.core.display.Image object>"
      ]
     },
     "execution_count": 5,
     "metadata": {},
     "output_type": "execute_result"
    }
   ],
   "source": [
    "from IPython.display import Image\n",
    "Image(filename='projects/pineapple/data/images/Pineapple-256.png')"
   ]
  },
  {
   "cell_type": "markdown",
   "metadata": {},
   "source": [
    "Of course you can also do inline markdown images if you want.\n",
    "\n",
    "Using special markdown syntax.\n",
    "![pineapple](../images/Pineapple-256.png)\n",
    "\n",
    "Or just good ol' HTML5.\n",
    "<img src=\"../images/Pineapple-256.png\" />\n",
    "\n",
    "Here it is different, the URL is relative to the notebook file. Much nicer in my opinion."
   ]
  },
  {
   "cell_type": "markdown",
   "metadata": {},
   "source": [
    "Let's see what versions of libraries we have."
   ]
  },
  {
   "cell_type": "code",
   "execution_count": 7,
   "metadata": {
    "collapsed": false
   },
   "outputs": [
    {
     "name": "stdout",
     "output_type": "stream",
     "text": [
      "2.7.6 (default, Jun 22 2015, 17:58:13) \n",
      "[GCC 4.8.2]\n"
     ]
    }
   ],
   "source": [
    "import sys\n",
    "print(sys.version)"
   ]
  },
  {
   "cell_type": "markdown",
   "metadata": {},
   "source": [
    "## Numpy\n",
    "\n",
    "The real reason you want to use Python, let's be honest. You want that numpy goodness. You got it."
   ]
  },
  {
   "cell_type": "code",
   "execution_count": 11,
   "metadata": {
    "collapsed": false
   },
   "outputs": [
    {
     "data": {
      "text/plain": [
       "array([[0, 1, 2],\n",
       "       [3, 4, 5],\n",
       "       [6, 7, 8]])"
      ]
     },
     "execution_count": 11,
     "metadata": {},
     "output_type": "execute_result"
    }
   ],
   "source": [
    "from numpy import *\n",
    "a = arange(9).reshape(3, 3); a"
   ]
  },
  {
   "cell_type": "code",
   "execution_count": 13,
   "metadata": {
    "collapsed": false
   },
   "outputs": [
    {
     "data": {
      "text/plain": [
       "array([[ 15,  18,  21],\n",
       "       [ 42,  54,  66],\n",
       "       [ 69,  90, 111]])"
      ]
     },
     "execution_count": 13,
     "metadata": {},
     "output_type": "execute_result"
    }
   ],
   "source": [
    "a.dot(a)"
   ]
  }
 ],
 "metadata": {
  "kernelspec": {
   "display_name": "Python 2",
   "language": "python",
   "name": "python2"
  },
  "language_info": {
   "codemirror_mode": {
    "name": "ipython",
    "version": 2
   },
   "file_extension": ".py",
   "mimetype": "text/x-python",
   "name": "python",
   "nbconvert_exporter": "python",
   "pygments_lexer": "ipython2",
   "version": "2.7.6"
  }
 },
 "nbformat": 4,
 "nbformat_minor": 0
}
